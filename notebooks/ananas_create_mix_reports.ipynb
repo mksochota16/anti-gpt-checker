{
 "cells": [
  {
   "metadata": {
    "ExecuteTime": {
     "end_time": "2025-04-06T10:15:50.325721Z",
     "start_time": "2025-04-06T10:15:45.570771Z"
    }
   },
   "cell_type": "code",
   "source": [
    "import random\n",
    "from tqdm import tqdm\n",
    "\n",
    "from dao.lab_report import DAOLabReport\n",
    "\n",
    "from typing import List\n",
    "\n",
    "from models.lab_report import LabReportInDB\n",
    "\n",
    "from analysis.attribute_retriving import split_text_into_chunks\n",
    "from analysis.nlp_transformations import split_into_sentences\n",
    "from analysis.nlp_transformations import preprocess_text"
   ],
   "outputs": [],
   "execution_count": 1
  },
  {
   "metadata": {
    "ExecuteTime": {
     "end_time": "2025-04-06T10:16:37.589206Z",
     "start_time": "2025-04-06T10:16:33.007692Z"
    }
   },
   "cell_type": "code",
   "source": [
    "dao_og_lab_reports: DAOLabReport = DAOLabReport('lab_reports-no_toc_biblio_11-03-25')\n",
    "dao_mixed_lab_reports: DAOLabReport = DAOLabReport('lab_reports-mixed')\n",
    "\n",
    "og_lab_reports: List[LabReportInDB] = dao_og_lab_reports.find_many_by_query({'is_generated': False})"
   ],
   "outputs": [],
   "execution_count": 2
  },
  {
   "metadata": {
    "ExecuteTime": {
     "end_time": "2025-04-06T10:16:49.008627Z",
     "start_time": "2025-04-06T10:16:49.003111Z"
    }
   },
   "cell_type": "code",
   "source": [
    "def get_chunk_word_count(text):\n",
    "    \"\"\"\n",
    "    Determines a chunk word count for the text.\n",
    "    For shorter texts (< 500 words) it uses a lower upper bound,\n",
    "    for longer texts it allows chunks up to 300 words.\n",
    "    \"\"\"\n",
    "    total_words = len(text.split())\n",
    "    if total_words < 75:\n",
    "        return total_words  # The whole text as one chunk if very short.\n",
    "    elif total_words < 500:\n",
    "        # For moderate texts, choose between 75 and 150 words.\n",
    "        return random.randint(75, 150)\n",
    "    else:\n",
    "        # For longer texts, allow chunks up to 300 words.\n",
    "        return random.randint(75, min(300, total_words))\n",
    "\n",
    "def mix_texts(text1, text2):\n",
    "    \"\"\"\n",
    "    Splits two texts into chunks and then interleaves the chunks.\n",
    "\n",
    "    For indices:\n",
    "      - Even indices: mix1 gets text1's chunk, mix2 gets text2's chunk.\n",
    "      - Odd indices: mix1 gets text2's chunk, mix2 gets text1's chunk.\n",
    "\n",
    "    If one text has extra chunks, they are appended to the corresponding mix.\n",
    "    \"\"\"\n",
    "    # Split texts into sentences using the provided method.\n",
    "    sentences1 = split_into_sentences(text1, \"pl\")\n",
    "    sentences2 = split_into_sentences(text2, \"pl\")\n",
    "\n",
    "    # Determine chunk sizes based on text lengths.\n",
    "    chunk_word_count1 = get_chunk_word_count(text1)\n",
    "    chunk_word_count2 = get_chunk_word_count(text2)\n",
    "\n",
    "    # Split sentences into chunks using the provided method.\n",
    "    chunks1 = split_text_into_chunks(sentences1, chunk_word_count1)\n",
    "    chunks2 = split_text_into_chunks(sentences2, chunk_word_count2)\n",
    "\n",
    "    mix1, mix2 = [], []\n",
    "    max_chunks = max(len(chunks1), len(chunks2))\n",
    "\n",
    "    # Interleave chunks based on index parity.\n",
    "    for i in range(max_chunks):\n",
    "        if i < len(chunks1) and i < len(chunks2):\n",
    "            if i % 2 == 0:\n",
    "                mix1.append(chunks1[i])\n",
    "                mix2.append(chunks2[i])\n",
    "            else:\n",
    "                mix1.append(chunks2[i])\n",
    "                mix2.append(chunks1[i])\n",
    "        elif i < len(chunks1):\n",
    "            # Only text1 has an extra chunk.\n",
    "            if i % 2 == 0:\n",
    "                mix1.append(chunks1[i])\n",
    "            else:\n",
    "                mix2.append(chunks1[i])\n",
    "        elif i < len(chunks2):\n",
    "            # Only text2 has an extra chunk.\n",
    "            if i % 2 == 0:\n",
    "                mix2.append(chunks2[i])\n",
    "            else:\n",
    "                mix1.append(chunks2[i])\n",
    "\n",
    "    # Join chunks into final mixed texts.\n",
    "    return \" \".join(mix1), \" \".join(mix2)"
   ],
   "outputs": [],
   "execution_count": 3
  },
  {
   "metadata": {
    "ExecuteTime": {
     "end_time": "2025-04-06T10:18:28.209049Z",
     "start_time": "2025-04-06T10:16:56.488378Z"
    }
   },
   "cell_type": "code",
   "source": [
    "mixed_texts: List[str] = []\n",
    "\n",
    "for i in tqdm(range(0, len(og_lab_reports), 2), desc=\"Mixing texts\"):\n",
    "        if i + 1 < len(og_lab_reports):\n",
    "            index1 = i\n",
    "            index2 = i + 1\n",
    "        else:\n",
    "            index1 = i\n",
    "            index2 = 0\n",
    "\n",
    "        text1 = preprocess_text(og_lab_reports[index1].plaintext_content)\n",
    "        text2 = preprocess_text(og_lab_reports[index2].plaintext_content)\n",
    "        mix1, mix2 = mix_texts(text1, text2)\n",
    "        mixed_texts.extend([mix1, mix2])\n"
   ],
   "outputs": [
    {
     "name": "stderr",
     "output_type": "stream",
     "text": [
      "Mixing texts: 100%|██████████| 1260/1260 [01:31<00:00, 13.74it/s]\n"
     ]
    }
   ],
   "execution_count": 4
  },
  {
   "metadata": {
    "ExecuteTime": {
     "end_time": "2025-04-06T11:30:09.308921Z",
     "start_time": "2025-04-06T11:30:09.303657Z"
    }
   },
   "cell_type": "code",
   "source": "len(mixed_texts)",
   "outputs": [
    {
     "data": {
      "text/plain": [
       "2520"
      ]
     },
     "execution_count": 11,
     "metadata": {},
     "output_type": "execute_result"
    }
   ],
   "execution_count": 11
  },
  {
   "metadata": {
    "ExecuteTime": {
     "end_time": "2025-04-06T11:25:26.041547Z",
     "start_time": "2025-04-06T11:23:36.838990Z"
    }
   },
   "cell_type": "code",
   "source": [
    "from models.lab_report import LabReport\n",
    "\n",
    "for mixed_text in mixed_texts:\n",
    "    lab_report = LabReport(\n",
    "        plaintext_content=mixed_text,\n",
    "        is_generated=False,\n",
    "        is_mixed=True,\n",
    "        tag=\"None\",\n",
    "    )\n",
    "    dao_mixed_lab_reports.insert_one(lab_report)"
   ],
   "outputs": [],
   "execution_count": 10
  },
  {
   "metadata": {},
   "cell_type": "code",
   "outputs": [],
   "execution_count": null,
   "source": ""
  }
 ],
 "metadata": {
  "kernelspec": {
   "display_name": "Python 3",
   "language": "python",
   "name": "python3"
  },
  "language_info": {
   "codemirror_mode": {
    "name": "ipython",
    "version": 2
   },
   "file_extension": ".py",
   "mimetype": "text/x-python",
   "name": "python",
   "nbconvert_exporter": "python",
   "pygments_lexer": "ipython2",
   "version": "2.7.6"
  }
 },
 "nbformat": 4,
 "nbformat_minor": 0
}
